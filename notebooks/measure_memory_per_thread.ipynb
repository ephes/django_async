{
 "cells": [
  {
   "cell_type": "code",
   "execution_count": 1,
   "metadata": {},
   "outputs": [],
   "source": [
    "import time\n",
    "\n",
    "import concurrent.futures"
   ]
  },
  {
   "cell_type": "code",
   "execution_count": 2,
   "metadata": {},
   "outputs": [],
   "source": [
    "def do_almost_nothing(thread_id):\n",
    "    time.sleep(100)\n",
    "    return thread_id"
   ]
  },
  {
   "cell_type": "code",
   "execution_count": null,
   "metadata": {},
   "outputs": [],
   "source": [
    "num_threads = 10000\n",
    "results = []\n",
    "s = time.perf_counter()\n",
    "with concurrent.futures.ThreadPoolExecutor(max_workers=num_threads) as executor:\n",
    "    future_to_function = {executor.submit(do_almost_nothing, thread_id): thread_id for thread_id in range(num_threads)}\n",
    "    for future in concurrent.futures.as_completed(future_to_function):\n",
    "        function = future_to_function[future]\n",
    "        try:\n",
    "            results.append(future.result())\n",
    "        except Exception as exc:\n",
    "            print('%r generated an exception: %s' % (function, exc))\n",
    "elapsed = time.perf_counter() - s\n",
    "print(f\"do_almost_nothing executed in {elapsed:0.2f} seconds.\")"
   ]
  },
  {
   "cell_type": "code",
   "execution_count": null,
   "metadata": {},
   "outputs": [],
   "source": []
  }
 ],
 "metadata": {
  "kernelspec": {
   "display_name": "Django Shell-Plus",
   "language": "python",
   "name": "django_extensions"
  },
  "language_info": {
   "codemirror_mode": {
    "name": "ipython",
    "version": 3
   },
   "file_extension": ".py",
   "mimetype": "text/x-python",
   "name": "python",
   "nbconvert_exporter": "python",
   "pygments_lexer": "ipython3",
   "version": "3.8.3"
  }
 },
 "nbformat": 4,
 "nbformat_minor": 4
}
