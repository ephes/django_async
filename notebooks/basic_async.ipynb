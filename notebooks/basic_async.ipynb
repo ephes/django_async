{
 "cells": [
  {
   "cell_type": "code",
   "execution_count": 1,
   "metadata": {},
   "outputs": [],
   "source": [
    "import time\n",
    "import httpx"
   ]
  },
  {
   "cell_type": "markdown",
   "metadata": {},
   "source": [
    "# Sync vs Async Tests"
   ]
  },
  {
   "cell_type": "code",
   "execution_count": 45,
   "metadata": {},
   "outputs": [],
   "source": [
    "base_url = \"https://swapi.dev/api\"\n",
    "num_iterations = 10"
   ]
  },
  {
   "cell_type": "markdown",
   "metadata": {},
   "source": [
    "## Fetch URL sync"
   ]
  },
  {
   "cell_type": "code",
   "execution_count": 106,
   "metadata": {},
   "outputs": [
    {
     "name": "stdout",
     "output_type": "stream",
     "text": [
      "fetch executed in 2.72 seconds.\n"
     ]
    }
   ],
   "source": [
    "results = []\n",
    "s = time.perf_counter()\n",
    "for i in range(1, 1 + num_iterations):\n",
    "    url = f\"{base_url}/people/{i}/\"\n",
    "    r = httpx.get(url)\n",
    "    results.append(r.json())\n",
    "elapsed = time.perf_counter() - s\n",
    "print(f\"fetch executed in {elapsed:0.2f} seconds.\")"
   ]
  },
  {
   "cell_type": "markdown",
   "metadata": {},
   "source": [
    "## Fetch URL async"
   ]
  },
  {
   "cell_type": "code",
   "execution_count": 108,
   "metadata": {},
   "outputs": [
    {
     "name": "stdout",
     "output_type": "stream",
     "text": [
      "fetch executed in 3.15 seconds.\n"
     ]
    }
   ],
   "source": [
    "# does not work, dunny why\n",
    "results = []\n",
    "s = time.perf_counter()\n",
    "async with httpx.AsyncClient() as client:\n",
    "    for i in range(1, 1 + num_iterations):\n",
    "        url = f\"{base_url}/people/{i}/\"\n",
    "        r = await client.get(f\"{base_url}/people/{i}/\")\n",
    "        results.append(r.json())\n",
    "elapsed = time.perf_counter() - s\n",
    "print(f\"fetch executed in {elapsed:0.2f} seconds.\")"
   ]
  },
  {
   "cell_type": "code",
   "execution_count": 109,
   "metadata": {},
   "outputs": [
    {
     "name": "stdout",
     "output_type": "stream",
     "text": [
      "fetch executed in 1.29 seconds.\n"
     ]
    }
   ],
   "source": [
    "results = []\n",
    "urls = [f\"{base_url}/people/{i}/\" for i in range(1, 1 + num_iterations)]\n",
    "s = time.perf_counter()\n",
    "async with httpx.AsyncClient() as client:\n",
    "    responses = await asyncio.gather(*[client.get(url) for url in urls])\n",
    "    results = [r.json() for r in responses]\n",
    "elapsed = time.perf_counter() - s\n",
    "print(f\"fetch executed in {elapsed:0.2f} seconds.\")"
   ]
  },
  {
   "cell_type": "markdown",
   "metadata": {},
   "source": [
    "## Fetch URL with Threadpool"
   ]
  },
  {
   "cell_type": "code",
   "execution_count": 59,
   "metadata": {},
   "outputs": [],
   "source": [
    "import concurrent.futures"
   ]
  },
  {
   "cell_type": "code",
   "execution_count": 103,
   "metadata": {},
   "outputs": [
    {
     "name": "stdout",
     "output_type": "stream",
     "text": [
      "fetch executed in 1.32 seconds.\n"
     ]
    }
   ],
   "source": [
    "results = []\n",
    "urls = [f\"{base_url}/people/{i}/\" for i in range(1, 1 + num_iterations)]\n",
    "s = time.perf_counter()\n",
    "with concurrent.futures.ThreadPoolExecutor(max_workers=5) as executor:\n",
    "    future_to_url = {executor.submit(httpx.get, url): url for url in urls}\n",
    "    for future in concurrent.futures.as_completed(future_to_url):\n",
    "        url = future_to_url[future]\n",
    "        try:\n",
    "            r = future.result()\n",
    "            results.append(r.json())\n",
    "        except Exception as exc:\n",
    "            print('%r generated an exception: %s' % (url, exc))\n",
    "elapsed = time.perf_counter() - s\n",
    "print(f\"fetch executed in {elapsed:0.2f} seconds.\")"
   ]
  },
  {
   "cell_type": "code",
   "execution_count": 62,
   "metadata": {},
   "outputs": [
    {
     "data": {
      "text/plain": [
       "[{'name': 'C-3PO',\n",
       "  'height': '167',\n",
       "  'mass': '75',\n",
       "  'hair_color': 'n/a',\n",
       "  'skin_color': 'gold',\n",
       "  'eye_color': 'yellow',\n",
       "  'birth_year': '112BBY',\n",
       "  'gender': 'n/a',\n",
       "  'homeworld': 'http://swapi.dev/api/planets/1/',\n",
       "  'films': ['http://swapi.dev/api/films/1/',\n",
       "   'http://swapi.dev/api/films/2/',\n",
       "   'http://swapi.dev/api/films/3/',\n",
       "   'http://swapi.dev/api/films/4/',\n",
       "   'http://swapi.dev/api/films/5/',\n",
       "   'http://swapi.dev/api/films/6/'],\n",
       "  'species': ['http://swapi.dev/api/species/2/'],\n",
       "  'vehicles': [],\n",
       "  'starships': [],\n",
       "  'created': '2014-12-10T15:10:51.357000Z',\n",
       "  'edited': '2014-12-20T21:17:50.309000Z',\n",
       "  'url': 'http://swapi.dev/api/people/2/'},\n",
       " {'name': 'Leia Organa',\n",
       "  'height': '150',\n",
       "  'mass': '49',\n",
       "  'hair_color': 'brown',\n",
       "  'skin_color': 'light',\n",
       "  'eye_color': 'brown',\n",
       "  'birth_year': '19BBY',\n",
       "  'gender': 'female',\n",
       "  'homeworld': 'http://swapi.dev/api/planets/2/',\n",
       "  'films': ['http://swapi.dev/api/films/1/',\n",
       "   'http://swapi.dev/api/films/2/',\n",
       "   'http://swapi.dev/api/films/3/',\n",
       "   'http://swapi.dev/api/films/6/'],\n",
       "  'species': [],\n",
       "  'vehicles': ['http://swapi.dev/api/vehicles/30/'],\n",
       "  'starships': [],\n",
       "  'created': '2014-12-10T15:20:09.791000Z',\n",
       "  'edited': '2014-12-20T21:17:50.315000Z',\n",
       "  'url': 'http://swapi.dev/api/people/5/'},\n",
       " {'name': 'Darth Vader',\n",
       "  'height': '202',\n",
       "  'mass': '136',\n",
       "  'hair_color': 'none',\n",
       "  'skin_color': 'white',\n",
       "  'eye_color': 'yellow',\n",
       "  'birth_year': '41.9BBY',\n",
       "  'gender': 'male',\n",
       "  'homeworld': 'http://swapi.dev/api/planets/1/',\n",
       "  'films': ['http://swapi.dev/api/films/1/',\n",
       "   'http://swapi.dev/api/films/2/',\n",
       "   'http://swapi.dev/api/films/3/',\n",
       "   'http://swapi.dev/api/films/6/'],\n",
       "  'species': [],\n",
       "  'vehicles': [],\n",
       "  'starships': ['http://swapi.dev/api/starships/13/'],\n",
       "  'created': '2014-12-10T15:18:20.704000Z',\n",
       "  'edited': '2014-12-20T21:17:50.313000Z',\n",
       "  'url': 'http://swapi.dev/api/people/4/'},\n",
       " {'name': 'R2-D2',\n",
       "  'height': '96',\n",
       "  'mass': '32',\n",
       "  'hair_color': 'n/a',\n",
       "  'skin_color': 'white, blue',\n",
       "  'eye_color': 'red',\n",
       "  'birth_year': '33BBY',\n",
       "  'gender': 'n/a',\n",
       "  'homeworld': 'http://swapi.dev/api/planets/8/',\n",
       "  'films': ['http://swapi.dev/api/films/1/',\n",
       "   'http://swapi.dev/api/films/2/',\n",
       "   'http://swapi.dev/api/films/3/',\n",
       "   'http://swapi.dev/api/films/4/',\n",
       "   'http://swapi.dev/api/films/5/',\n",
       "   'http://swapi.dev/api/films/6/'],\n",
       "  'species': ['http://swapi.dev/api/species/2/'],\n",
       "  'vehicles': [],\n",
       "  'starships': [],\n",
       "  'created': '2014-12-10T15:11:50.376000Z',\n",
       "  'edited': '2014-12-20T21:17:50.311000Z',\n",
       "  'url': 'http://swapi.dev/api/people/3/'},\n",
       " {'name': 'Luke Skywalker',\n",
       "  'height': '172',\n",
       "  'mass': '77',\n",
       "  'hair_color': 'blond',\n",
       "  'skin_color': 'fair',\n",
       "  'eye_color': 'blue',\n",
       "  'birth_year': '19BBY',\n",
       "  'gender': 'male',\n",
       "  'homeworld': 'http://swapi.dev/api/planets/1/',\n",
       "  'films': ['http://swapi.dev/api/films/1/',\n",
       "   'http://swapi.dev/api/films/2/',\n",
       "   'http://swapi.dev/api/films/3/',\n",
       "   'http://swapi.dev/api/films/6/'],\n",
       "  'species': [],\n",
       "  'vehicles': ['http://swapi.dev/api/vehicles/14/',\n",
       "   'http://swapi.dev/api/vehicles/30/'],\n",
       "  'starships': ['http://swapi.dev/api/starships/12/',\n",
       "   'http://swapi.dev/api/starships/22/'],\n",
       "  'created': '2014-12-09T13:50:51.644000Z',\n",
       "  'edited': '2014-12-20T21:17:56.891000Z',\n",
       "  'url': 'http://swapi.dev/api/people/1/'},\n",
       " {'name': 'Owen Lars',\n",
       "  'height': '178',\n",
       "  'mass': '120',\n",
       "  'hair_color': 'brown, grey',\n",
       "  'skin_color': 'light',\n",
       "  'eye_color': 'blue',\n",
       "  'birth_year': '52BBY',\n",
       "  'gender': 'male',\n",
       "  'homeworld': 'http://swapi.dev/api/planets/1/',\n",
       "  'films': ['http://swapi.dev/api/films/1/',\n",
       "   'http://swapi.dev/api/films/5/',\n",
       "   'http://swapi.dev/api/films/6/'],\n",
       "  'species': [],\n",
       "  'vehicles': [],\n",
       "  'starships': [],\n",
       "  'created': '2014-12-10T15:52:14.024000Z',\n",
       "  'edited': '2014-12-20T21:17:50.317000Z',\n",
       "  'url': 'http://swapi.dev/api/people/6/'},\n",
       " {'name': 'Beru Whitesun lars',\n",
       "  'height': '165',\n",
       "  'mass': '75',\n",
       "  'hair_color': 'brown',\n",
       "  'skin_color': 'light',\n",
       "  'eye_color': 'blue',\n",
       "  'birth_year': '47BBY',\n",
       "  'gender': 'female',\n",
       "  'homeworld': 'http://swapi.dev/api/planets/1/',\n",
       "  'films': ['http://swapi.dev/api/films/1/',\n",
       "   'http://swapi.dev/api/films/5/',\n",
       "   'http://swapi.dev/api/films/6/'],\n",
       "  'species': [],\n",
       "  'vehicles': [],\n",
       "  'starships': [],\n",
       "  'created': '2014-12-10T15:53:41.121000Z',\n",
       "  'edited': '2014-12-20T21:17:50.319000Z',\n",
       "  'url': 'http://swapi.dev/api/people/7/'},\n",
       " {'name': 'R5-D4',\n",
       "  'height': '97',\n",
       "  'mass': '32',\n",
       "  'hair_color': 'n/a',\n",
       "  'skin_color': 'white, red',\n",
       "  'eye_color': 'red',\n",
       "  'birth_year': 'unknown',\n",
       "  'gender': 'n/a',\n",
       "  'homeworld': 'http://swapi.dev/api/planets/1/',\n",
       "  'films': ['http://swapi.dev/api/films/1/'],\n",
       "  'species': ['http://swapi.dev/api/species/2/'],\n",
       "  'vehicles': [],\n",
       "  'starships': [],\n",
       "  'created': '2014-12-10T15:57:50.959000Z',\n",
       "  'edited': '2014-12-20T21:17:50.321000Z',\n",
       "  'url': 'http://swapi.dev/api/people/8/'},\n",
       " {'name': 'Biggs Darklighter',\n",
       "  'height': '183',\n",
       "  'mass': '84',\n",
       "  'hair_color': 'black',\n",
       "  'skin_color': 'light',\n",
       "  'eye_color': 'brown',\n",
       "  'birth_year': '24BBY',\n",
       "  'gender': 'male',\n",
       "  'homeworld': 'http://swapi.dev/api/planets/1/',\n",
       "  'films': ['http://swapi.dev/api/films/1/'],\n",
       "  'species': [],\n",
       "  'vehicles': [],\n",
       "  'starships': ['http://swapi.dev/api/starships/12/'],\n",
       "  'created': '2014-12-10T15:59:50.509000Z',\n",
       "  'edited': '2014-12-20T21:17:50.323000Z',\n",
       "  'url': 'http://swapi.dev/api/people/9/'},\n",
       " {'name': 'Obi-Wan Kenobi',\n",
       "  'height': '182',\n",
       "  'mass': '77',\n",
       "  'hair_color': 'auburn, white',\n",
       "  'skin_color': 'fair',\n",
       "  'eye_color': 'blue-gray',\n",
       "  'birth_year': '57BBY',\n",
       "  'gender': 'male',\n",
       "  'homeworld': 'http://swapi.dev/api/planets/20/',\n",
       "  'films': ['http://swapi.dev/api/films/1/',\n",
       "   'http://swapi.dev/api/films/2/',\n",
       "   'http://swapi.dev/api/films/3/',\n",
       "   'http://swapi.dev/api/films/4/',\n",
       "   'http://swapi.dev/api/films/5/',\n",
       "   'http://swapi.dev/api/films/6/'],\n",
       "  'species': [],\n",
       "  'vehicles': ['http://swapi.dev/api/vehicles/38/'],\n",
       "  'starships': ['http://swapi.dev/api/starships/48/',\n",
       "   'http://swapi.dev/api/starships/59/',\n",
       "   'http://swapi.dev/api/starships/64/',\n",
       "   'http://swapi.dev/api/starships/65/',\n",
       "   'http://swapi.dev/api/starships/74/'],\n",
       "  'created': '2014-12-10T16:16:29.192000Z',\n",
       "  'edited': '2014-12-20T21:17:50.325000Z',\n",
       "  'url': 'http://swapi.dev/api/people/10/'}]"
      ]
     },
     "execution_count": 62,
     "metadata": {},
     "output_type": "execute_result"
    }
   ],
   "source": [
    "results"
   ]
  },
  {
   "cell_type": "markdown",
   "metadata": {},
   "source": [
    "# Local Webserver Sync View\n",
    "\n",
    "Sync server started with:\n",
    "```\n",
    "gunicorn -b 0.0.0.0:8001 --workers=1 --threads 10 django_async.wsgi\n",
    "python manage.py runserver 0.0.0.0:8001  # standard dev server is also multithreaded\n",
    "```"
   ]
  },
  {
   "cell_type": "code",
   "execution_count": 2,
   "metadata": {},
   "outputs": [],
   "source": [
    "sync_api_url = \"http://localhost:8001/sync_api_view/\""
   ]
  },
  {
   "cell_type": "markdown",
   "metadata": {},
   "source": [
    "### Sync"
   ]
  },
  {
   "cell_type": "code",
   "execution_count": 86,
   "metadata": {},
   "outputs": [
    {
     "name": "stdout",
     "output_type": "stream",
     "text": [
      "fetch executed in 10.18 seconds.\n"
     ]
    }
   ],
   "source": [
    "results = []\n",
    "s = time.perf_counter()\n",
    "for i in range(1, 1 + num_iterations):\n",
    "    r = httpx.get(sync_api_url)\n",
    "    results.append(r.json())\n",
    "elapsed = time.perf_counter() - s\n",
    "print(f\"fetch executed in {elapsed:0.2f} seconds.\")"
   ]
  },
  {
   "cell_type": "markdown",
   "metadata": {},
   "source": [
    "### Async"
   ]
  },
  {
   "cell_type": "code",
   "execution_count": 85,
   "metadata": {},
   "outputs": [
    {
     "name": "stdout",
     "output_type": "stream",
     "text": [
      "fetch executed in 10.07 seconds.\n"
     ]
    }
   ],
   "source": [
    "results = []\n",
    "s = time.perf_counter()\n",
    "async with httpx.AsyncClient() as client:\n",
    "    for i in range(1, 1 + num_iterations):\n",
    "        r = await client.get(sync_api_url)\n",
    "        results.append(r.json())\n",
    "elapsed = time.perf_counter() - s\n",
    "print(f\"fetch executed in {elapsed:0.2f} seconds.\")"
   ]
  },
  {
   "cell_type": "code",
   "execution_count": 89,
   "metadata": {},
   "outputs": [
    {
     "name": "stdout",
     "output_type": "stream",
     "text": [
      "fetch executed in 10.20 seconds.\n"
     ]
    }
   ],
   "source": [
    "results = []\n",
    "s = time.perf_counter()\n",
    "for i in range(1, 1 + num_iterations):\n",
    "    async with httpx.AsyncClient() as client:\n",
    "        r = await client.get(sync_api_url)\n",
    "    results.append(r.json())\n",
    "elapsed = time.perf_counter() - s\n",
    "print(f\"fetch executed in {elapsed:0.2f} seconds.\")"
   ]
  },
  {
   "cell_type": "code",
   "execution_count": 96,
   "metadata": {},
   "outputs": [
    {
     "name": "stdout",
     "output_type": "stream",
     "text": [
      "fetch executed in 1.03 seconds.\n"
     ]
    }
   ],
   "source": [
    "results = []\n",
    "urls = [sync_api_url for i in range(1, 1 + num_iterations)]\n",
    "s = time.perf_counter()\n",
    "async with httpx.AsyncClient() as client:\n",
    "    responses = await asyncio.gather(*[client.get(url) for url in urls])\n",
    "    results = [r.json() for r in responses]\n",
    "elapsed = time.perf_counter() - s\n",
    "print(f\"fetch executed in {elapsed:0.2f} seconds.\")"
   ]
  },
  {
   "cell_type": "markdown",
   "metadata": {},
   "source": [
    "### Thread"
   ]
  },
  {
   "cell_type": "code",
   "execution_count": 88,
   "metadata": {},
   "outputs": [
    {
     "name": "stdout",
     "output_type": "stream",
     "text": [
      "fetch executed in 1.08 seconds.\n"
     ]
    }
   ],
   "source": [
    "results = []\n",
    "urls = [sync_api_url for i in range(1, 1 + num_iterations)]\n",
    "s = time.perf_counter()\n",
    "with concurrent.futures.ThreadPoolExecutor(max_workers=10) as executor:\n",
    "    future_to_url = {executor.submit(httpx.get, url): url for url in urls}\n",
    "    for future in concurrent.futures.as_completed(future_to_url):\n",
    "        url = future_to_url[future]\n",
    "        try:\n",
    "            r = future.result()\n",
    "            results.append(r.json())\n",
    "        except Exception as exc:\n",
    "            print('%r generated an exception: %s' % (url, exc))\n",
    "elapsed = time.perf_counter() - s\n",
    "print(f\"fetch executed in {elapsed:0.2f} seconds.\")"
   ]
  },
  {
   "cell_type": "code",
   "execution_count": 90,
   "metadata": {},
   "outputs": [],
   "source": [
    "from django_async import views"
   ]
  },
  {
   "cell_type": "code",
   "execution_count": 91,
   "metadata": {},
   "outputs": [
    {
     "data": {
      "text/plain": [
       "['HttpResponse',\n",
       " 'JsonResponse',\n",
       " '__builtins__',\n",
       " '__cached__',\n",
       " '__doc__',\n",
       " '__file__',\n",
       " '__loader__',\n",
       " '__name__',\n",
       " '__package__',\n",
       " '__spec__',\n",
       " 'async_aggregation_from_external_experiment_view',\n",
       " 'async_aggregation_from_external_view',\n",
       " 'async_aggregation_from_sync_view',\n",
       " 'async_aggregation_view',\n",
       " 'async_api_view',\n",
       " 'async_hello_world_view',\n",
       " 'async_to_sync',\n",
       " 'asyncio',\n",
       " 'httpx',\n",
       " 'sleep',\n",
       " 'sync_aggregation_view',\n",
       " 'sync_api_view',\n",
       " 'sync_external_api_view',\n",
       " 'sync_hello_world_view',\n",
       " 'sync_to_async',\n",
       " 'time']"
      ]
     },
     "execution_count": 91,
     "metadata": {},
     "output_type": "execute_result"
    }
   ],
   "source": [
    "dir(views)"
   ]
  },
  {
   "cell_type": "code",
   "execution_count": null,
   "metadata": {},
   "outputs": [],
   "source": []
  }
 ],
 "metadata": {
  "kernelspec": {
   "display_name": "Django Shell-Plus",
   "language": "python",
   "name": "django_extensions"
  },
  "language_info": {
   "codemirror_mode": {
    "name": "ipython",
    "version": 3
   },
   "file_extension": ".py",
   "mimetype": "text/x-python",
   "name": "python",
   "nbconvert_exporter": "python",
   "pygments_lexer": "ipython3",
   "version": "3.8.3"
  }
 },
 "nbformat": 4,
 "nbformat_minor": 4
}
