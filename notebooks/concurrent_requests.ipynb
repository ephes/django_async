{
 "cells": [
  {
   "cell_type": "code",
   "execution_count": 13,
   "metadata": {},
   "outputs": [],
   "source": [
    "import time\n",
    "import httpx"
   ]
  },
  {
   "cell_type": "code",
   "execution_count": 17,
   "metadata": {},
   "outputs": [],
   "source": [
    "base_url = \"https://swapi.dev/api/people\"\n",
    "urls = []\n",
    "for character_id in range(1, 6):\n",
    "    urls.append(f\"{base_url}/{character_id}/\")"
   ]
  },
  {
   "cell_type": "code",
   "execution_count": 18,
   "metadata": {},
   "outputs": [
    {
     "data": {
      "text/plain": [
       "['https://swapi.dev/api/people/1/',\n",
       " 'https://swapi.dev/api/people/2/',\n",
       " 'https://swapi.dev/api/people/3/',\n",
       " 'https://swapi.dev/api/people/4/',\n",
       " 'https://swapi.dev/api/people/5/']"
      ]
     },
     "execution_count": 18,
     "metadata": {},
     "output_type": "execute_result"
    }
   ],
   "source": [
    "urls"
   ]
  },
  {
   "cell_type": "markdown",
   "metadata": {},
   "source": [
    "# Making sync requests"
   ]
  },
  {
   "cell_type": "code",
   "execution_count": 24,
   "metadata": {},
   "outputs": [
    {
     "name": "stdout",
     "output_type": "stream",
     "text": [
      "Luke Skywalker\n",
      "C-3PO\n",
      "R2-D2\n",
      "Darth Vader\n",
      "Leia Organa\n",
      "fetch executed in 0.35 seconds.\n"
     ]
    }
   ],
   "source": [
    "s = time.perf_counter()\n",
    "for url in urls:\n",
    "    r = httpx.get(url)\n",
    "    print(r.json()[\"name\"])\n",
    "elapsed = time.perf_counter() - s\n",
    "print(f\"fetch executed in {elapsed:0.2f} seconds.\")"
   ]
  },
  {
   "cell_type": "markdown",
   "metadata": {},
   "source": [
    "# Threads"
   ]
  },
  {
   "cell_type": "code",
   "execution_count": 11,
   "metadata": {},
   "outputs": [],
   "source": [
    "import concurrent.futures"
   ]
  },
  {
   "cell_type": "code",
   "execution_count": 23,
   "metadata": {},
   "outputs": [
    {
     "name": "stdout",
     "output_type": "stream",
     "text": [
      "R2-D2\n",
      "Leia Organa\n",
      "C-3PO\n",
      "Darth Vader\n",
      "Luke Skywalker\n",
      "fetch executed in 0.14 seconds.\n"
     ]
    }
   ],
   "source": [
    "s = time.perf_counter()\n",
    "with concurrent.futures.ThreadPoolExecutor(max_workers=5) as executor:\n",
    "    future_to_url = {executor.submit(httpx.get, url): url for url in urls}\n",
    "    for future in concurrent.futures.as_completed(future_to_url):\n",
    "        url = future_to_url[future]\n",
    "        try:\n",
    "            r = future.result()\n",
    "            print(r.json()[\"name\"])\n",
    "        except Exception as exc:\n",
    "            print('%r generated an exception: %s' % (url, exc))\n",
    "elapsed = time.perf_counter() - s\n",
    "print(f\"fetch executed in {elapsed:0.2f} seconds.\")"
   ]
  },
  {
   "cell_type": "markdown",
   "metadata": {},
   "source": [
    "# Async"
   ]
  },
  {
   "cell_type": "code",
   "execution_count": 25,
   "metadata": {},
   "outputs": [],
   "source": [
    "import asyncio"
   ]
  },
  {
   "cell_type": "code",
   "execution_count": 26,
   "metadata": {},
   "outputs": [
    {
     "name": "stdout",
     "output_type": "stream",
     "text": [
      "Luke Skywalker\n",
      "C-3PO\n",
      "R2-D2\n",
      "Darth Vader\n",
      "Leia Organa\n",
      "fetch executed in 0.15 seconds.\n"
     ]
    }
   ],
   "source": [
    "s = time.perf_counter()\n",
    "async with httpx.AsyncClient() as client:\n",
    "    responses = await asyncio.gather(*[client.get(url) for url in urls])\n",
    "    for r in responses:\n",
    "        print(r.json()[\"name\"])\n",
    "elapsed = time.perf_counter() - s\n",
    "print(f\"fetch executed in {elapsed:0.2f} seconds.\")"
   ]
  }
 ],
 "metadata": {
  "kernelspec": {
   "display_name": "Python 3",
   "language": "python",
   "name": "python3"
  },
  "language_info": {
   "codemirror_mode": {
    "name": "ipython",
    "version": 3
   },
   "file_extension": ".py",
   "mimetype": "text/x-python",
   "name": "python",
   "nbconvert_exporter": "python",
   "pygments_lexer": "ipython3",
   "version": "3.8.3"
  }
 },
 "nbformat": 4,
 "nbformat_minor": 4
}
