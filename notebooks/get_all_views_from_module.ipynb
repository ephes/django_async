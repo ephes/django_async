{
 "cells": [
  {
   "cell_type": "code",
   "execution_count": 1,
   "metadata": {},
   "outputs": [],
   "source": [
    "import types\n",
    "from django_async import views"
   ]
  },
  {
   "cell_type": "code",
   "execution_count": 3,
   "metadata": {},
   "outputs": [
    {
     "data": {
      "text/plain": [
       "['sync_hello_world_view',\n",
       " 'async_hello_world_view',\n",
       " 'sync_api_view',\n",
       " 'async_api_view',\n",
       " 'sync_aggregation_view',\n",
       " 'async_aggregation_from_sync_view',\n",
       " 'async_aggregation_from_external_view',\n",
       " 'async_aggregation_from_external_experiment_view',\n",
       " 'sync_external_api_view',\n",
       " 'async_aggregation_view']"
      ]
     },
     "execution_count": 3,
     "metadata": {},
     "output_type": "execute_result"
    }
   ],
   "source": [
    "[_[0] for _ in views.all]"
   ]
  },
  {
   "cell_type": "code",
   "execution_count": 5,
   "metadata": {},
   "outputs": [
    {
     "data": {
      "text/plain": [
       "('sync_hello_world_view',\n",
       " <function django_async.views.sync_hello_world_view(request)>)"
      ]
     },
     "execution_count": 5,
     "metadata": {},
     "output_type": "execute_result"
    }
   ],
   "source": [
    "views.all_views[0]"
   ]
  },
  {
   "cell_type": "code",
   "execution_count": null,
   "metadata": {},
   "outputs": [],
   "source": [
    "print([getattr(yourmodule, a) for a in dir(yourmodule)\n",
    "  if isinstance(getattr(yourmodule, a), types.FunctionType)])"
   ]
  },
  {
   "cell_type": "code",
   "execution_count": 2,
   "metadata": {},
   "outputs": [
    {
     "name": "stdout",
     "output_type": "stream",
     "text": [
      "['HttpResponse', 'JsonResponse', '__builtins__', '__cached__', '__doc__', '__file__', '__loader__', '__name__', '__package__', '__spec__', 'async_aggregation_from_external_experiment_view', 'async_aggregation_from_external_view', 'async_aggregation_from_sync_view', 'async_aggregation_view', 'async_api_view', 'async_hello_world_view', 'async_to_sync', 'asyncio', 'httpx', 'sync_aggregation_view', 'sync_api_view', 'sync_external_api_view', 'sync_hello_world_view', 'sync_to_async', 'time']\n"
     ]
    }
   ],
   "source": [
    "print(dir(views))"
   ]
  },
  {
   "cell_type": "code",
   "execution_count": 3,
   "metadata": {},
   "outputs": [
    {
     "name": "stdout",
     "output_type": "stream",
     "text": [
      "async_aggregation_from_external_experiment_view\n",
      "async_aggregation_from_external_view\n",
      "async_aggregation_from_sync_view\n",
      "async_aggregation_view\n",
      "async_api_view\n",
      "async_hello_world_view\n",
      "sync_aggregation_view\n",
      "sync_api_view\n",
      "sync_external_api_view\n",
      "sync_hello_world_view\n"
     ]
    }
   ],
   "source": [
    "for name in dir(views):\n",
    "    if isinstance(getattr(views, name), types.FunctionType):\n",
    "        print(name)"
   ]
  },
  {
   "cell_type": "code",
   "execution_count": 2,
   "metadata": {},
   "outputs": [],
   "source": [
    "def foobar(asdf):\n",
    "    return asdf"
   ]
  },
  {
   "cell_type": "code",
   "execution_count": 9,
   "metadata": {},
   "outputs": [
    {
     "name": "stdout",
     "output_type": "stream",
     "text": [
      "get_user_model\n",
      "reverse\n",
      "foobar\n"
     ]
    }
   ],
   "source": [
    "current_globals = globals().copy()\n",
    "for name, value in current_globals.items():\n",
    "    if isinstance(value, types.FunctionType):\n",
    "        print(name)"
   ]
  },
  {
   "cell_type": "code",
   "execution_count": 3,
   "metadata": {},
   "outputs": [],
   "source": [
    "from django_async.viewfinder import get_all_functions"
   ]
  },
  {
   "cell_type": "code",
   "execution_count": 4,
   "metadata": {},
   "outputs": [
    {
     "data": {
      "text/plain": [
       "[('get_all_functions', <function django_async.viewfinder.get_all_functions()>)]"
      ]
     },
     "execution_count": 4,
     "metadata": {},
     "output_type": "execute_result"
    }
   ],
   "source": [
    "get_all_functions()"
   ]
  },
  {
   "cell_type": "code",
   "execution_count": 5,
   "metadata": {},
   "outputs": [],
   "source": [
    "from inspect import getmembers"
   ]
  },
  {
   "cell_type": "code",
   "execution_count": 7,
   "metadata": {},
   "outputs": [],
   "source": [
    "members = getmembers(views)"
   ]
  },
  {
   "cell_type": "code",
   "execution_count": 10,
   "metadata": {},
   "outputs": [
    {
     "name": "stdout",
     "output_type": "stream",
     "text": [
      "HttpResponse\n",
      "JsonResponse\n",
      "__builtins__\n",
      "__cached__\n",
      "__doc__\n",
      "__file__\n",
      "__loader__\n",
      "__name__\n",
      "__package__\n",
      "__spec__\n",
      "all\n",
      "async_aggregation_from_external_experiment_view\n",
      "async_aggregation_from_external_view\n",
      "async_aggregation_from_sync_view\n",
      "async_aggregation_view\n",
      "async_api_view\n",
      "async_hello_world_view\n",
      "async_to_sync\n",
      "asyncio\n",
      "current_globals\n",
      "httpx\n",
      "name\n",
      "sync_aggregation_view\n",
      "sync_api_view\n",
      "sync_external_api_view\n",
      "sync_hello_world_view\n",
      "sync_to_async\n",
      "time\n",
      "types\n",
      "value\n"
     ]
    }
   ],
   "source": [
    "for name, obj in members:\n",
    "    print(name)"
   ]
  },
  {
   "cell_type": "code",
   "execution_count": null,
   "metadata": {},
   "outputs": [],
   "source": []
  }
 ],
 "metadata": {
  "kernelspec": {
   "display_name": "Django Shell-Plus",
   "language": "python",
   "name": "django_extensions"
  },
  "language_info": {
   "codemirror_mode": {
    "name": "ipython",
    "version": 3
   },
   "file_extension": ".py",
   "mimetype": "text/x-python",
   "name": "python",
   "nbconvert_exporter": "python",
   "pygments_lexer": "ipython3",
   "version": "3.8.3"
  }
 },
 "nbformat": 4,
 "nbformat_minor": 4
}
